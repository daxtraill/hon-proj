{
 "cells": [
  {
   "cell_type": "code",
   "execution_count": 4,
   "metadata": {},
   "outputs": [
    {
     "name": "stdout",
     "output_type": "stream",
     "text": [
      "Conversion complete. The CSV file has been saved as /Volumes/dax-hd/project-data/search-files/cath-domain-list-S35.csv\n"
     ]
    }
   ],
   "source": [
    "import csv\n",
    "import re\n",
    "\n",
    "# ---------------------------------------------------------------------------------------------------\n",
    "# Import files\n",
    "\n",
    "input_file_path = '/Volumes/dax-hd/project-data/search-files/cath-domain-list-S35.txt'\n",
    "output_file_path = '/Volumes/dax-hd/project-data/search-files/cath-domain-list-S35.csv'\n",
    "\n",
    "# ---------------------------------------------------------------------------------------------------\n",
    "\n",
    "with open(input_file_path, 'r') as txt_file, open(output_file_path, 'w', newline='') as csv_file:\n",
    "    writer = csv.writer(csv_file)\n",
    "    \n",
    "    for line in txt_file:\n",
    "        line = re.sub(r'\\s+', ',', line.strip())\n",
    "        entries = line.split(',')\n",
    "        writer.writerow(entries)\n",
    "\n",
    "# ---------------------------------------------------------------------------------------------------\n",
    "\n",
    "print(f\"Conversion complete. The CSV file has been saved as {output_file_path}\")"
   ]
  },
  {
   "cell_type": "code",
   "execution_count": null,
   "metadata": {},
   "outputs": [],
   "source": []
  }
 ],
 "metadata": {
  "kernelspec": {
   "display_name": "modules",
   "language": "python",
   "name": "python3"
  },
  "language_info": {
   "codemirror_mode": {
    "name": "ipython",
    "version": 3
   },
   "file_extension": ".py",
   "mimetype": "text/x-python",
   "name": "python",
   "nbconvert_exporter": "python",
   "pygments_lexer": "ipython3",
   "version": "3.12.1"
  }
 },
 "nbformat": 4,
 "nbformat_minor": 2
}
