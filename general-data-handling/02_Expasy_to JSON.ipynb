{
 "cells": [
  {
   "cell_type": "code",
   "execution_count": 30,
   "metadata": {},
   "outputs": [
    {
     "name": "stdout",
     "output_type": "stream",
     "text": [
      "JSON file has been saved successfully to /Volumes/dax-hd/project-data/search-files/enzclass-dict.txt.\n"
     ]
    }
   ],
   "source": [
    "import json\n",
    "\n",
    "data_path = \"/Volumes/dax-hd/project-data/search-files/enzclass.txt\"\n",
    "\n",
    "enzyme_dict = {}\n",
    "\n",
    "try:\n",
    "    with open(data_path, 'r') as file:\n",
    "        for line in file:\n",
    "            line = line.strip()\n",
    "            if not line:\n",
    "                continue\n",
    "\n",
    "            id_part, description = line[:9].replace(\" \", \"\"), line[10:].strip()\n",
    "            class_id, subclass_id, subsubclass_id, _ = id_part.split('.')\n",
    "\n",
    "            class_id = int(class_id) if class_id != \"-\" else class_id\n",
    "            subclass_id = int(subclass_id) if subclass_id != \"-\" else subclass_id\n",
    "            subsubclass_id = int(subsubclass_id) if subsubclass_id != \"-\" else subsubclass_id\n",
    "\n",
    "            if class_id not in enzyme_dict:\n",
    "                enzyme_dict[class_id] = {\"name\": description}\n",
    "            elif subclass_id == \"-\" and subsubclass_id == \"-\":\n",
    "                enzyme_dict[class_id][\"name\"] = description\n",
    "\n",
    "            if subclass_id != \"-\":\n",
    "                if subclass_id not in enzyme_dict[class_id]:\n",
    "                    enzyme_dict[class_id][subclass_id] = {\"name\": description}\n",
    "                elif subsubclass_id == \"-\":\n",
    "                    enzyme_dict[class_id][subclass_id][\"name\"] = description\n",
    "\n",
    "            if subclass_id != \"-\" and subsubclass_id != \"-\":\n",
    "                enzyme_dict[class_id][subclass_id][subsubclass_id] = {\"name\": description}\n",
    "\n",
    "except FileNotFoundError:\n",
    "    print(f\"File not found: {data_path}\")\n",
    "except Exception as e:\n",
    "    print(f\"An error occurred: {e}\")\n",
    "\n",
    "output_path = '/Volumes/dax-hd/project-data/search-files/enzclass-dict.txt'\n",
    "\n",
    "try:\n",
    "    with open(output_path, 'w') as file:\n",
    "        json.dump(enzyme_dict, file, indent=2)\n",
    "    print(f\"JSON file has been saved successfully to {output_path}.\")\n",
    "except Exception as e:\n",
    "    print(f\"Failed to save the file: {e}\")"
   ]
  },
  {
   "cell_type": "code",
   "execution_count": null,
   "metadata": {},
   "outputs": [],
   "source": []
  }
 ],
 "metadata": {
  "kernelspec": {
   "display_name": "myenv",
   "language": "python",
   "name": "python3"
  },
  "language_info": {
   "name": "python",
   "version": "3.11.8"
  }
 },
 "nbformat": 4,
 "nbformat_minor": 2
}
