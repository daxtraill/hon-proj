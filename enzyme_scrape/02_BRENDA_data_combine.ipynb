{
 "cells": [
  {
   "cell_type": "code",
   "execution_count": 9,
   "metadata": {},
   "outputs": [],
   "source": [
    "import pandas as pd\n",
    "\n",
    "def preprocess_and_filter(df):\n",
    "\n",
    "    df_str = df.astype(str).apply(lambda x: x.str.lower())\n",
    "    \n",
    "    mask_mutant = df_str.apply(lambda x: x.str.contains('mutant|mutation')).any(axis=1)\n",
    "    df = df[~mask_mutant]\n",
    "    \n",
    "    mask_no_name = df['Enzyme Name'].isna() | df['Enzyme Name'].apply(lambda x: pd.to_numeric(x, errors='coerce')).notna()\n",
    "    df = df[~mask_no_name]\n",
    "    \n",
    "    return df\n",
    "\n",
    "file_paths = [\n",
    "    \"/Volumes/dax-hd/project-data/brenda/ic50_brenda_results.csv\",\n",
    "    \"/Volumes/dax-hd/project-data/brenda/kcat_km_brenda_results.csv\",\n",
    "    \"/Volumes/dax-hd/project-data/brenda/ki_brenda_results.csv\",\n",
    "    \"/Volumes/dax-hd/project-data/brenda/ph_optimum_brenda_results.csv\",\n",
    "    \"/Volumes/dax-hd/project-data/brenda/temp_optimum_brenda_results.csv\",\n",
    "    \"/Volumes/dax-hd/project-data/brenda/turnover_brenda_results.csv\"\n",
    "]\n",
    "\n",
    "key_columns = ['EC ID', 'Enzyme Name', 'Reference']\n",
    "\n",
    "combined_df = pd.read_csv(file_paths[0])\n",
    "\n",
    "numerical_cols = combined_df.select_dtypes(include=['float64', 'int64']).columns\n",
    "\n",
    "for key in key_columns:\n",
    "    combined_df[key] = combined_df[key].astype(str)\n",
    "\n",
    "for i, file in enumerate(file_paths[1:], start=1):\n",
    "    df = pd.read_csv(file)\n",
    "    \n",
    "    for key in key_columns:\n",
    "        df[key] = df[key].astype(str)\n",
    "    \n",
    "    df_filtered = preprocess_and_filter(df)\n",
    "    \n",
    "    if combined_df.empty:\n",
    "        combined_df = df_filtered\n",
    "    else:\n",
    "        non_key_columns = df_filtered.columns.difference(key_columns)\n",
    "        df_filtered.rename(columns={col: f\"{col}_file{i}\" for col in non_key_columns}, inplace=True)\n",
    "        combined_df = pd.merge(combined_df, df_filtered, on=key_columns, how='outer')\n",
    "\n",
    "combined_df.to_csv('/Volumes/dax-hd/project-data/brenda/brenda_combined_preprocessed.csv', index=False)"
   ]
  },
  {
   "cell_type": "code",
   "execution_count": 5,
   "metadata": {},
   "outputs": [
    {
     "name": "stderr",
     "output_type": "stream",
     "text": [
      "/var/folders/fg/0p2hf3h96gz7n16ykmw22n9w0000gn/T/ipykernel_31073/198356916.py:1: DtypeWarning: Columns (7) have mixed types. Specify dtype option on import or set low_memory=False.\n",
      "  combined_df = pd.read_csv('/Volumes/dax-hd/project-data/brenda/brenda_combined.csv')\n"
     ]
    }
   ],
   "source": [
    "combined_df = pd.read_csv('/Volumes/dax-hd/project-data/brenda/brenda_combined.csv')\n",
    "\n",
    "numerical_cols = combined_df.select_dtypes(include=['float64', 'int64']).columns\n",
    "combined_df = combined_df[(combined_df[numerical_cols] >= 1).all(axis=1)]\n",
    "\n",
    "combined_df.to_csv('/Volumes/dax-hd/project-data/brenda/brenda_preprocessed.csv', index=False)"
   ]
  },
  {
   "cell_type": "code",
   "execution_count": null,
   "metadata": {},
   "outputs": [
    {
     "data": {
      "application/vnd.jupyter.widget-view+json": {
       "model_id": "fd47566fc78c401c8202c5863c8b3a73",
       "version_major": 2,
       "version_minor": 0
      },
      "text/plain": []
     },
     "metadata": {},
     "output_type": "display_data"
    },
    {
     "name": "stdout",
     "output_type": "stream",
     "text": [
      "Downloading PDB structure '1a0a'...\n"
     ]
    },
    {
     "name": "stderr",
     "output_type": "stream",
     "text": [
      "/opt/anaconda3/envs/myenv/lib/python3.11/Bio/PDB/StructureBuilder.py:89: PDBConstructionWarning: WARNING: Chain C is discontinuous at line 2057.\n",
      "  warnings.warn(\n",
      "/opt/anaconda3/envs/myenv/lib/python3.11/Bio/PDB/StructureBuilder.py:89: PDBConstructionWarning: WARNING: Chain D is discontinuous at line 2075.\n",
      "  warnings.warn(\n",
      "/opt/anaconda3/envs/myenv/lib/python3.11/Bio/PDB/StructureBuilder.py:89: PDBConstructionWarning: WARNING: Chain A is discontinuous at line 2098.\n",
      "  warnings.warn(\n",
      "/opt/anaconda3/envs/myenv/lib/python3.11/Bio/PDB/StructureBuilder.py:89: PDBConstructionWarning: WARNING: Chain B is discontinuous at line 2121.\n",
      "  warnings.warn(\n"
     ]
    },
    {
     "data": {
      "application/vnd.jupyter.widget-view+json": {
       "model_id": "c010748bf64c4218a7fde75983ef0612",
       "version_major": 2,
       "version_minor": 0
      },
      "text/plain": [
       "NGLWidget()"
      ]
     },
     "metadata": {},
     "output_type": "display_data"
    }
   ],
   "source": [
    "from Bio.PDB import PDBList, PDBParser\n",
    "import nglview as nv\n",
    "\n",
    "# Specify the PDB ID\n",
    "pdb_id = '1a0a'\n",
    "\n",
    "# Fetch the PDB file from the PDB server\n",
    "pdbl = PDBList()\n",
    "filename = pdbl.retrieve_pdb_file(pdb_id, pdir='/Volumes/dax-hd/project-data/02_pdb_cleanup/1a0a.pdb', file_format='pdb')\n",
    "\n",
    "# Parse the PDB file\n",
    "parser = PDBParser()\n",
    "structure = parser.get_structure(pdb_id, filename)\n",
    "\n",
    "# Visualize the structure with NGLView\n",
    "view = nv.show_biopython(structure)\n",
    "view"
   ]
  },
  {
   "cell_type": "code",
   "execution_count": null,
   "metadata": {},
   "outputs": [],
   "source": []
  }
 ],
 "metadata": {
  "kernelspec": {
   "display_name": "myenv",
   "language": "python",
   "name": "python3"
  },
  "language_info": {
   "codemirror_mode": {
    "name": "ipython",
    "version": 3
   },
   "file_extension": ".py",
   "mimetype": "text/x-python",
   "name": "python",
   "nbconvert_exporter": "python",
   "pygments_lexer": "ipython3",
   "version": "3.11.8"
  }
 },
 "nbformat": 4,
 "nbformat_minor": 2
}
