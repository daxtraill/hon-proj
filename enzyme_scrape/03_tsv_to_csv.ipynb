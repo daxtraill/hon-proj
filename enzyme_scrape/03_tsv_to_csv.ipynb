{
 "cells": [
  {
   "cell_type": "code",
   "execution_count": 2,
   "metadata": {},
   "outputs": [],
   "source": [
    "import csv\n",
    "\n",
    "def convert_tsv_to_csv(input_tsv_path, output_csv_path, input_encoding='ISO-8859-1'):\n",
    "\n",
    "    with open(input_tsv_path, 'r', newline='', encoding=input_encoding) as tsvfile, \\\n",
    "         open(output_csv_path, 'w', newline='', encoding='utf-8') as csvfile:\n",
    "        tsv_reader = csv.reader(tsvfile, delimiter='\\t')\n",
    "        csv_writer = csv.writer(csvfile, quoting=csv.QUOTE_ALL)\n",
    "\n",
    "        for row in tsv_reader:\n",
    "            csv_writer.writerow(row[:7])\n",
    "\n",
    "convert_tsv_to_csv(\"/Users/daxtraill/Desktop/Brenda/ic50_brenda_results.tsv\", \"/Users/daxtraill/Desktop/Brenda/ic50_brenda_results.csv\")\n",
    "convert_tsv_to_csv(\"/Users/daxtraill/Desktop/Brenda/kcat_km_brenda_results.tsv\", \"/Users/daxtraill/Desktop/Brenda/kcat_km_brenda_results.csv\")\n",
    "convert_tsv_to_csv(\"/Users/daxtraill/Desktop/Brenda/ki_brenda_results.tsv\", \"/Users/daxtraill/Desktop/Brenda/ki_brenda_results.csv\")\n",
    "convert_tsv_to_csv(\"/Users/daxtraill/Desktop/Brenda/ph_optimum_brenda_results.tsv\", \"/Users/daxtraill/Desktop/Brenda/ph_optimum_brenda_results.csv\")\n",
    "convert_tsv_to_csv(\"/Users/daxtraill/Desktop/Brenda/temp_optimum_brenda_results.tsv\", \"/Users/daxtraill/Desktop/Brenda/temp_optimum_brenda_results.csv\")\n",
    "convert_tsv_to_csv(\"/Users/daxtraill/Desktop/Brenda/turnover_brenda_results.tsv\", \"/Users/daxtraill/Desktop/Brenda/turnover_brenda_results.csv\")"
   ]
  },
  {
   "cell_type": "code",
   "execution_count": 8,
   "metadata": {},
   "outputs": [],
   "source": [
    "import csv\n",
    "\n",
    "def convert_tsv_to_csv(input_tsv_path, output_csv_path, input_encoding='ISO-8859-1'):\n",
    "\n",
    "    with open(input_tsv_path, 'r', newline='', encoding=input_encoding) as tsvfile, \\\n",
    "         open(output_csv_path, 'w', newline='', encoding='utf-8') as csvfile:\n",
    "        tsv_reader = csv.reader(tsvfile, delimiter='\\t')\n",
    "        csv_writer = csv.writer(csvfile, quoting=csv.QUOTE_ALL)\n",
    "\n",
    "        for row in tsv_reader:\n",
    "            csv_writer.writerow(row[:6])\n",
    "\n",
    "\n",
    "convert_tsv_to_csv(\"/Users/daxtraill/Desktop/Brenda/ki_brenda_results.tsv\", \"/Users/daxtraill/Desktop/Brenda/ki_brenda_results.csv\")\n"
   ]
  },
  {
   "cell_type": "code",
   "execution_count": 11,
   "metadata": {},
   "outputs": [
    {
     "name": "stdout",
     "output_type": "stream",
     "text": [
      "Successfully cleaned ic50_brenda_results.csv\n",
      "Successfully cleaned kcat_km_brenda_results.csv\n",
      "Successfully cleaned ki_brenda_results.csv\n",
      "Successfully cleaned ph_optimum_brenda_results.csv\n",
      "Successfully cleaned temp_optimum_brenda_results.csv\n",
      "Successfully cleaned turnover_brenda_results.csv\n"
     ]
    }
   ],
   "source": [
    "import pandas as pd\n",
    "\n",
    "def clean_csv(input_csv_path, output_csv_path, input_encoding='ISO-8859-1'):\n",
    "    df = pd.read_csv(input_csv_path, encoding=input_encoding)\n",
    "\n",
    "    keywords = ['recombinant', 'mutant', 'allozyme', 'mutation', 'mutated', 'isoenzyme',\n",
    "                'presence', 'sensitive', 'modified', 'treatment', 'not specified',\n",
    "                'additional information', 'isozyme', 'treated', 'tagged']\n",
    "    pattern = '|'.join(keywords)\n",
    "    \n",
    "    mask = pd.Series([True] * len(df))\n",
    "    \n",
    "    for column in df.columns:\n",
    "        if df[column].dtype == object:\n",
    "            mask &= ~df[column].str.contains(pattern, case=False, na=False)\n",
    "    \n",
    "    df_clean = df[mask]\n",
    "\n",
    "    df_clean.to_csv(output_csv_path, index=False, encoding=input_encoding)\n",
    "\n",
    "paths = [\n",
    "    \"ic50_brenda_results.csv\",\n",
    "    \"kcat_km_brenda_results.csv\",\n",
    "    \"ki_brenda_results.csv\",\n",
    "    \"ph_optimum_brenda_results.csv\",\n",
    "    \"temp_optimum_brenda_results.csv\",\n",
    "    \"turnover_brenda_results.csv\"\n",
    "]\n",
    "\n",
    "for file_name in paths:\n",
    "    input_path = f\"/Volumes/dax-hd/project-data/brenda/{file_name}\"\n",
    "    output_path = f\"/Volumes/dax-hd/project-data/brenda/cleaned_{file_name}\"\n",
    "    try:\n",
    "        clean_csv(input_path, output_path)\n",
    "        print(f\"Successfully cleaned {file_name}\")\n",
    "    except Exception as e:\n",
    "        print(f\"Error processing {file_name}: {e}\")\n"
   ]
  },
  {
   "cell_type": "code",
   "execution_count": null,
   "metadata": {},
   "outputs": [],
   "source": []
  }
 ],
 "metadata": {
  "kernelspec": {
   "display_name": "myenv",
   "language": "python",
   "name": "python3"
  },
  "language_info": {
   "codemirror_mode": {
    "name": "ipython",
    "version": 3
   },
   "file_extension": ".py",
   "mimetype": "text/x-python",
   "name": "python",
   "nbconvert_exporter": "python",
   "pygments_lexer": "ipython3",
   "version": "3.11.8"
  }
 },
 "nbformat": 4,
 "nbformat_minor": 2
}
