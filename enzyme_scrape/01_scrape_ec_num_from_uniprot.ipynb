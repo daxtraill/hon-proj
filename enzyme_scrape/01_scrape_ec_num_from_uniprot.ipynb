{
 "cells": [
  {
   "cell_type": "code",
   "execution_count": 8,
   "metadata": {},
   "outputs": [
    {
     "name": "stdout",
     "output_type": "stream",
     "text": [
      "The CSV file has been created with the matched entries, including PDB IDs.\n"
     ]
    }
   ],
   "source": [
    "import csv\n",
    "import re\n",
    "\n",
    "uniprot_csv_file_path = '/Volumes/dax-hd/project-data/search-files/uniprot-data.csv'\n",
    "enzyme_info_txt_file_path = '/Volumes/dax-hd/project-data/search-files/enzyme_dat.txt'\n",
    "output_csv_file_path = '/Volumes/dax-hd/project-data/search-files/enzyme-id-data.csv'\n",
    "\n",
    "\n",
    "def load_uniprot_pdb_mapping(file_path):\n",
    "    mapping = {}\n",
    "    with open(file_path, mode='r', newline='', encoding='utf-8') as csvfile:\n",
    "        reader = csv.DictReader(csvfile)\n",
    "        for row in reader:\n",
    "            mapping[row['UniProt Accession']] = row['PDB ID']\n",
    "    return mapping\n",
    "\n",
    "def process_text_file(file_path, uniprot_pdb_mapping):\n",
    "    with open(file_path, 'r') as file:\n",
    "        content = file.read()\n",
    "\n",
    "    entries = content.strip().split('//')\n",
    "    data = []\n",
    "\n",
    "    for entry in entries:\n",
    "        ec_id_search = re.search(r'ID\\s+(\\d+\\.\\d+\\.\\d+\\.\\d+)', entry)\n",
    "        enzyme_name_search = re.search(r'DE\\s+(.+)\\.', entry)\n",
    "        dr_lines_search = re.findall(r'DR\\s+(.+)', entry)\n",
    "\n",
    "        if ec_id_search and enzyme_name_search and dr_lines_search:\n",
    "            ec_id = ec_id_search.group(1)\n",
    "            enzyme_name = enzyme_name_search.group(1)\n",
    "            dr_lines = ' '.join(dr_lines_search)\n",
    "            uniprot_ids = re.findall(r'(\\w+),', dr_lines)\n",
    "\n",
    "            for uniprot_id in uniprot_ids:\n",
    "                if uniprot_id in uniprot_pdb_mapping:\n",
    "                    data.append({\n",
    "                        'PDB ID': uniprot_pdb_mapping[uniprot_id],\n",
    "                        'UniProt Accession': uniprot_id,\n",
    "                        'EC ID': ec_id,\n",
    "                        'Enzyme Name': enzyme_name\n",
    "                    })\n",
    "\n",
    "    return data\n",
    "\n",
    "def write_to_csv(file_path, data):\n",
    "    with open(file_path, mode='w', newline='', encoding='utf-8') as csvfile:\n",
    "        fieldnames = ['PDB ID', 'UniProt Accession', 'EC ID', 'Enzyme Name']\n",
    "        writer = csv.DictWriter(csvfile, fieldnames=fieldnames)\n",
    "\n",
    "        writer.writeheader()\n",
    "        for row in data:\n",
    "            writer.writerow(row)\n",
    "\n",
    "uniprot_pdb_mapping = load_uniprot_pdb_mapping(uniprot_csv_file_path)\n",
    "data = process_text_file(enzyme_info_txt_file_path, uniprot_pdb_mapping)\n",
    "write_to_csv(output_csv_file_path, data)\n",
    "\n",
    "print(\"The CSV file has been created with the matched entries, including PDB IDs.\")"
   ]
  },
  {
   "cell_type": "code",
   "execution_count": null,
   "metadata": {},
   "outputs": [],
   "source": []
  }
 ],
 "metadata": {
  "kernelspec": {
   "display_name": "myenv",
   "language": "python",
   "name": "python3"
  },
  "language_info": {
   "codemirror_mode": {
    "name": "ipython",
    "version": 3
   },
   "file_extension": ".py",
   "mimetype": "text/x-python",
   "name": "python",
   "nbconvert_exporter": "python",
   "pygments_lexer": "ipython3",
   "version": "3.11.8"
  }
 },
 "nbformat": 4,
 "nbformat_minor": 2
}
